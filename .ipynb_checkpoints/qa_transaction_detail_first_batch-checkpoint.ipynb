{
 "cells": [
  {
   "cell_type": "code",
   "execution_count": 263,
   "metadata": {},
   "outputs": [],
   "source": [
    "import pandas as pd\n",
    "import numpy as np\n",
    "from datetime import datetime\n",
    "import matplotlib.pyplot as plt\n",
    "\n",
    "% matplotlib inline\n",
    "\n",
    "data = pd.read_csv('transactions_first_batch.csv', low_memory = False, dtype='O')\n"
   ]
  },
  {
   "cell_type": "markdown",
   "metadata": {},
   "source": [
    "Check first and last five rows."
   ]
  },
  {
   "cell_type": "code",
   "execution_count": 190,
   "metadata": {},
   "outputs": [
    {
     "data": {
      "text/html": [
       "<div>\n",
       "<table border=\"1\" class=\"dataframe\">\n",
       "  <thead>\n",
       "    <tr style=\"text-align: right;\">\n",
       "      <th></th>\n",
       "      <th>Tran ID</th>\n",
       "      <th>Tran Date</th>\n",
       "      <th>Status</th>\n",
       "      <th>Filer/Committee</th>\n",
       "      <th>Contributor/Payee</th>\n",
       "      <th>Sub Type</th>\n",
       "      <th>Amount</th>\n",
       "      <th>committee_id</th>\n",
       "    </tr>\n",
       "  </thead>\n",
       "  <tbody>\n",
       "    <tr>\n",
       "      <th>0</th>\n",
       "      <td>1454151</td>\n",
       "      <td>01/24/2013</td>\n",
       "      <td>Original</td>\n",
       "      <td>Speech Hearing Action Committee</td>\n",
       "      <td>Sara Gelser for State Representative (4680)</td>\n",
       "      <td>Lost or Returned Check</td>\n",
       "      <td>$200.00</td>\n",
       "      <td>255</td>\n",
       "    </tr>\n",
       "    <tr>\n",
       "      <th>1</th>\n",
       "      <td>968825</td>\n",
       "      <td>11/30/2010</td>\n",
       "      <td>Original</td>\n",
       "      <td>Speech Hearing Action Committee</td>\n",
       "      <td>Oregon Speech Language Hearing Association</td>\n",
       "      <td>Cash Contribution</td>\n",
       "      <td>$53.00</td>\n",
       "      <td>255</td>\n",
       "    </tr>\n",
       "    <tr>\n",
       "      <th>2</th>\n",
       "      <td>934239</td>\n",
       "      <td>10/18/2010</td>\n",
       "      <td>Original</td>\n",
       "      <td>Speech Hearing Action Committee</td>\n",
       "      <td>Committee to Elect Dr. Alan Bates (3604)</td>\n",
       "      <td>Cash Expenditure</td>\n",
       "      <td>$250.00</td>\n",
       "      <td>255</td>\n",
       "    </tr>\n",
       "    <tr>\n",
       "      <th>3</th>\n",
       "      <td>934242</td>\n",
       "      <td>10/18/2010</td>\n",
       "      <td>Original</td>\n",
       "      <td>Speech Hearing Action Committee</td>\n",
       "      <td>Frank Morse for State Senate (4335)</td>\n",
       "      <td>Cash Expenditure</td>\n",
       "      <td>$250.00</td>\n",
       "      <td>255</td>\n",
       "    </tr>\n",
       "    <tr>\n",
       "      <th>4</th>\n",
       "      <td>934247</td>\n",
       "      <td>10/18/2010</td>\n",
       "      <td>Original</td>\n",
       "      <td>Speech Hearing Action Committee</td>\n",
       "      <td>Friends of Suzanne Bonamici (5254)</td>\n",
       "      <td>Cash Expenditure</td>\n",
       "      <td>$200.00</td>\n",
       "      <td>255</td>\n",
       "    </tr>\n",
       "    <tr>\n",
       "      <th>88305</th>\n",
       "      <td>26967</td>\n",
       "      <td>12/21/2006</td>\n",
       "      <td>Original</td>\n",
       "      <td>Lee, Charles E., for State Representative</td>\n",
       "      <td>Miscellaneous Personal Expenditures $100 and u...</td>\n",
       "      <td>Personal Expenditure for Reimbursement</td>\n",
       "      <td>$31.48</td>\n",
       "      <td>5328</td>\n",
       "    </tr>\n",
       "    <tr>\n",
       "      <th>88306</th>\n",
       "      <td>29612</td>\n",
       "      <td>12/21/2006</td>\n",
       "      <td>Amended</td>\n",
       "      <td>Lee, Charles E., for State Representative</td>\n",
       "      <td>Mary E Lee, Treasurer</td>\n",
       "      <td>Cash Expenditure</td>\n",
       "      <td>$31.48</td>\n",
       "      <td>5328</td>\n",
       "    </tr>\n",
       "    <tr>\n",
       "      <th>88307</th>\n",
       "      <td>16136</td>\n",
       "      <td>12/05/2006</td>\n",
       "      <td>Original</td>\n",
       "      <td>Lee, Charles E., for State Representative</td>\n",
       "      <td>Miscellaneous Cash Expenditures $100 and under</td>\n",
       "      <td>Cash Expenditure</td>\n",
       "      <td>$82.82</td>\n",
       "      <td>5328</td>\n",
       "    </tr>\n",
       "    <tr>\n",
       "      <th>88308</th>\n",
       "      <td>16135</td>\n",
       "      <td>12/01/2006</td>\n",
       "      <td>Original</td>\n",
       "      <td>Lee, Charles E., for State Representative</td>\n",
       "      <td>Miscellaneous Cash Expenditures $100 and under</td>\n",
       "      <td>Cash Expenditure</td>\n",
       "      <td>$80.34</td>\n",
       "      <td>5328</td>\n",
       "    </tr>\n",
       "    <tr>\n",
       "      <th>88309</th>\n",
       "      <td>15872</td>\n",
       "      <td>11/29/2006</td>\n",
       "      <td>Original</td>\n",
       "      <td>Lee, Charles E., for State Representative</td>\n",
       "      <td>Mary E Lee, Treasurer</td>\n",
       "      <td>Cash Expenditure</td>\n",
       "      <td>$700.00</td>\n",
       "      <td>5328</td>\n",
       "    </tr>\n",
       "  </tbody>\n",
       "</table>\n",
       "</div>"
      ],
      "text/plain": [
       "       Tran ID   Tran Date    Status  \\\n",
       "0      1454151  01/24/2013  Original   \n",
       "1       968825  11/30/2010  Original   \n",
       "2       934239  10/18/2010  Original   \n",
       "3       934242  10/18/2010  Original   \n",
       "4       934247  10/18/2010  Original   \n",
       "88305    26967  12/21/2006  Original   \n",
       "88306    29612  12/21/2006   Amended   \n",
       "88307    16136  12/05/2006  Original   \n",
       "88308    16135  12/01/2006  Original   \n",
       "88309    15872  11/29/2006  Original   \n",
       "\n",
       "                                 Filer/Committee  \\\n",
       "0                Speech Hearing Action Committee   \n",
       "1                Speech Hearing Action Committee   \n",
       "2                Speech Hearing Action Committee   \n",
       "3                Speech Hearing Action Committee   \n",
       "4                Speech Hearing Action Committee   \n",
       "88305  Lee, Charles E., for State Representative   \n",
       "88306  Lee, Charles E., for State Representative   \n",
       "88307  Lee, Charles E., for State Representative   \n",
       "88308  Lee, Charles E., for State Representative   \n",
       "88309  Lee, Charles E., for State Representative   \n",
       "\n",
       "                                       Contributor/Payee  \\\n",
       "0            Sara Gelser for State Representative (4680)   \n",
       "1             Oregon Speech Language Hearing Association   \n",
       "2               Committee to Elect Dr. Alan Bates (3604)   \n",
       "3                    Frank Morse for State Senate (4335)   \n",
       "4                     Friends of Suzanne Bonamici (5254)   \n",
       "88305  Miscellaneous Personal Expenditures $100 and u...   \n",
       "88306                              Mary E Lee, Treasurer   \n",
       "88307     Miscellaneous Cash Expenditures $100 and under   \n",
       "88308     Miscellaneous Cash Expenditures $100 and under   \n",
       "88309                              Mary E Lee, Treasurer   \n",
       "\n",
       "                                     Sub Type   Amount committee_id  \n",
       "0                      Lost or Returned Check  $200.00          255  \n",
       "1                           Cash Contribution   $53.00          255  \n",
       "2                            Cash Expenditure  $250.00          255  \n",
       "3                            Cash Expenditure  $250.00          255  \n",
       "4                            Cash Expenditure  $200.00          255  \n",
       "88305  Personal Expenditure for Reimbursement   $31.48         5328  \n",
       "88306                        Cash Expenditure   $31.48         5328  \n",
       "88307                        Cash Expenditure   $82.82         5328  \n",
       "88308                        Cash Expenditure   $80.34         5328  \n",
       "88309                        Cash Expenditure  $700.00         5328  "
      ]
     },
     "execution_count": 190,
     "metadata": {},
     "output_type": "execute_result"
    }
   ],
   "source": [
    "data.head().append(data.tail())"
   ]
  },
  {
   "cell_type": "markdown",
   "metadata": {},
   "source": [
    "Clean \"Amount\" column by removing characters and setting as float."
   ]
  },
  {
   "cell_type": "code",
   "execution_count": 191,
   "metadata": {},
   "outputs": [],
   "source": [
    "## Amount\n",
    "for i in ['$',',',')']:\n",
    "    data.Amount = data.Amount.str.replace(i,'')\n",
    "    \n",
    "data.Amount = data.Amount.str.replace('(','-').astype(float)\n"
   ]
  },
  {
   "cell_type": "markdown",
   "metadata": {},
   "source": [
    "Run a description of each, o get  get uniques"
   ]
  },
  {
   "cell_type": "code",
   "execution_count": 192,
   "metadata": {},
   "outputs": [
    {
     "data": {
      "text/html": [
       "<div>\n",
       "<table border=\"1\" class=\"dataframe\">\n",
       "  <thead>\n",
       "    <tr style=\"text-align: right;\">\n",
       "      <th></th>\n",
       "      <th>Tran ID</th>\n",
       "      <th>Tran Date</th>\n",
       "      <th>Status</th>\n",
       "      <th>Filer/Committee</th>\n",
       "      <th>Contributor/Payee</th>\n",
       "      <th>Sub Type</th>\n",
       "      <th>Amount</th>\n",
       "      <th>committee_id</th>\n",
       "    </tr>\n",
       "  </thead>\n",
       "  <tbody>\n",
       "    <tr>\n",
       "      <th>count</th>\n",
       "      <td>88310</td>\n",
       "      <td>88310</td>\n",
       "      <td>88310</td>\n",
       "      <td>88310</td>\n",
       "      <td>87530</td>\n",
       "      <td>88310</td>\n",
       "      <td>88310.000000</td>\n",
       "      <td>88310</td>\n",
       "    </tr>\n",
       "    <tr>\n",
       "      <th>unique</th>\n",
       "      <td>88310</td>\n",
       "      <td>4101</td>\n",
       "      <td>2</td>\n",
       "      <td>142</td>\n",
       "      <td>19500</td>\n",
       "      <td>29</td>\n",
       "      <td>NaN</td>\n",
       "      <td>104</td>\n",
       "    </tr>\n",
       "    <tr>\n",
       "      <th>top</th>\n",
       "      <td>1734643</td>\n",
       "      <td>11/09/2017</td>\n",
       "      <td>Original</td>\n",
       "      <td>Dentists of Oregon PAC</td>\n",
       "      <td>Miscellaneous Cash Contributions $100 and under</td>\n",
       "      <td>Cash Contribution</td>\n",
       "      <td>NaN</td>\n",
       "      <td>54</td>\n",
       "    </tr>\n",
       "    <tr>\n",
       "      <th>freq</th>\n",
       "      <td>1</td>\n",
       "      <td>1656</td>\n",
       "      <td>86331</td>\n",
       "      <td>5000</td>\n",
       "      <td>9442</td>\n",
       "      <td>49850</td>\n",
       "      <td>NaN</td>\n",
       "      <td>5000</td>\n",
       "    </tr>\n",
       "    <tr>\n",
       "      <th>mean</th>\n",
       "      <td>NaN</td>\n",
       "      <td>NaN</td>\n",
       "      <td>NaN</td>\n",
       "      <td>NaN</td>\n",
       "      <td>NaN</td>\n",
       "      <td>NaN</td>\n",
       "      <td>1116.298991</td>\n",
       "      <td>NaN</td>\n",
       "    </tr>\n",
       "    <tr>\n",
       "      <th>std</th>\n",
       "      <td>NaN</td>\n",
       "      <td>NaN</td>\n",
       "      <td>NaN</td>\n",
       "      <td>NaN</td>\n",
       "      <td>NaN</td>\n",
       "      <td>NaN</td>\n",
       "      <td>7272.454859</td>\n",
       "      <td>NaN</td>\n",
       "    </tr>\n",
       "    <tr>\n",
       "      <th>min</th>\n",
       "      <td>NaN</td>\n",
       "      <td>NaN</td>\n",
       "      <td>NaN</td>\n",
       "      <td>NaN</td>\n",
       "      <td>NaN</td>\n",
       "      <td>NaN</td>\n",
       "      <td>-29525.510000</td>\n",
       "      <td>NaN</td>\n",
       "    </tr>\n",
       "    <tr>\n",
       "      <th>25%</th>\n",
       "      <td>NaN</td>\n",
       "      <td>NaN</td>\n",
       "      <td>NaN</td>\n",
       "      <td>NaN</td>\n",
       "      <td>NaN</td>\n",
       "      <td>NaN</td>\n",
       "      <td>30.000000</td>\n",
       "      <td>NaN</td>\n",
       "    </tr>\n",
       "    <tr>\n",
       "      <th>50%</th>\n",
       "      <td>NaN</td>\n",
       "      <td>NaN</td>\n",
       "      <td>NaN</td>\n",
       "      <td>NaN</td>\n",
       "      <td>NaN</td>\n",
       "      <td>NaN</td>\n",
       "      <td>130.000000</td>\n",
       "      <td>NaN</td>\n",
       "    </tr>\n",
       "    <tr>\n",
       "      <th>75%</th>\n",
       "      <td>NaN</td>\n",
       "      <td>NaN</td>\n",
       "      <td>NaN</td>\n",
       "      <td>NaN</td>\n",
       "      <td>NaN</td>\n",
       "      <td>NaN</td>\n",
       "      <td>500.000000</td>\n",
       "      <td>NaN</td>\n",
       "    </tr>\n",
       "    <tr>\n",
       "      <th>max</th>\n",
       "      <td>NaN</td>\n",
       "      <td>NaN</td>\n",
       "      <td>NaN</td>\n",
       "      <td>NaN</td>\n",
       "      <td>NaN</td>\n",
       "      <td>NaN</td>\n",
       "      <td>592753.650000</td>\n",
       "      <td>NaN</td>\n",
       "    </tr>\n",
       "  </tbody>\n",
       "</table>\n",
       "</div>"
      ],
      "text/plain": [
       "        Tran ID   Tran Date    Status         Filer/Committee  \\\n",
       "count     88310       88310     88310                   88310   \n",
       "unique    88310        4101         2                     142   \n",
       "top     1734643  11/09/2017  Original  Dentists of Oregon PAC   \n",
       "freq          1        1656     86331                    5000   \n",
       "mean        NaN         NaN       NaN                     NaN   \n",
       "std         NaN         NaN       NaN                     NaN   \n",
       "min         NaN         NaN       NaN                     NaN   \n",
       "25%         NaN         NaN       NaN                     NaN   \n",
       "50%         NaN         NaN       NaN                     NaN   \n",
       "75%         NaN         NaN       NaN                     NaN   \n",
       "max         NaN         NaN       NaN                     NaN   \n",
       "\n",
       "                                      Contributor/Payee           Sub Type  \\\n",
       "count                                             87530              88310   \n",
       "unique                                            19500                 29   \n",
       "top     Miscellaneous Cash Contributions $100 and under  Cash Contribution   \n",
       "freq                                               9442              49850   \n",
       "mean                                                NaN                NaN   \n",
       "std                                                 NaN                NaN   \n",
       "min                                                 NaN                NaN   \n",
       "25%                                                 NaN                NaN   \n",
       "50%                                                 NaN                NaN   \n",
       "75%                                                 NaN                NaN   \n",
       "max                                                 NaN                NaN   \n",
       "\n",
       "               Amount committee_id  \n",
       "count    88310.000000        88310  \n",
       "unique            NaN          104  \n",
       "top               NaN           54  \n",
       "freq              NaN         5000  \n",
       "mean      1116.298991          NaN  \n",
       "std       7272.454859          NaN  \n",
       "min     -29525.510000          NaN  \n",
       "25%         30.000000          NaN  \n",
       "50%        130.000000          NaN  \n",
       "75%        500.000000          NaN  \n",
       "max     592753.650000          NaN  "
      ]
     },
     "execution_count": 192,
     "metadata": {},
     "output_type": "execute_result"
    }
   ],
   "source": [
    "data.describe(include='all')"
   ]
  },
  {
   "cell_type": "markdown",
   "metadata": {},
   "source": [
    "Notes:\n",
    "- There are 104 unique Committee Ids, were there supposed to be 100?"
   ]
  },
  {
   "cell_type": "markdown",
   "metadata": {},
   "source": [
    "## In Depth \n",
    "** Status **"
   ]
  },
  {
   "cell_type": "code",
   "execution_count": 265,
   "metadata": {},
   "outputs": [
    {
     "data": {
      "text/plain": [
       "<matplotlib.axes._subplots.AxesSubplot at 0x1cab1417470>"
      ]
     },
     "execution_count": 265,
     "metadata": {},
     "output_type": "execute_result"
    },
    {
     "data": {
      "image/png": "[encoded data removed]",
      "text/plain": [
       "<matplotlib.figure.Figure at 0x1cab1293668>"
      ]
     },
     "metadata": {},
     "output_type": "display_data"
    }
   ],
   "source": [
    "plt.figure(figsize = (10,4))\n",
    "data.groupby('Sub Type').size().sort_index().plot('bar')"
   ]
  },
  {
   "cell_type": "markdown",
   "metadata": {},
   "source": [
    "**status**"
   ]
  },
  {
   "cell_type": "code",
   "execution_count": 194,
   "metadata": {
    "scrolled": true
   },
   "outputs": [
    {
     "data": {
      "text/plain": [
       "Status\n",
       "Amended      1979\n",
       "Original    86331\n",
       "dtype: int64"
      ]
     },
     "execution_count": 194,
     "metadata": {},
     "output_type": "execute_result"
    }
   ],
   "source": [
    "data.groupby('Status').size()"
   ]
  },
  {
   "cell_type": "code",
   "execution_count": 216,
   "metadata": {
    "scrolled": true
   },
   "outputs": [
    {
     "data": {
      "text/plain": [
       "Contributor/Payee\n",
       "1 & 1 Interent              3\n",
       "1 and 1 Internet, Inc.      1\n",
       "1&1 Internet Inc            1\n",
       "1&1 Internet Inc.          19\n",
       "1-800 Contacts, Inc. **     3\n",
       "dtype: int64"
      ]
     },
     "execution_count": 216,
     "metadata": {},
     "output_type": "execute_result"
    }
   ],
   "source": [
    "data.groupby('Contributor/Payee').size().sort_index().head()"
   ]
  },
  {
   "cell_type": "markdown",
   "metadata": {},
   "source": [
    "Notes: \n",
    "- What does ** mean?\n",
    "- Need to normalized by fuzzy match"
   ]
  },
  {
   "cell_type": "markdown",
   "metadata": {},
   "source": [
    "Which rows have Null Values in \"Contributor/Payee\""
   ]
  },
  {
   "cell_type": "code",
   "execution_count": 222,
   "metadata": {},
   "outputs": [],
   "source": [
    "null_mask = data['Contributor/Payee'].isnull()"
   ]
  },
  {
   "cell_type": "code",
   "execution_count": 255,
   "metadata": {
    "scrolled": false
   },
   "outputs": [
    {
     "data": {
      "text/plain": [
       "array(['Interest/Investment Income', 'Cash Balance Adjustment',\n",
       "       'Items Sold at Fair Market Value',\n",
       "       'Personal Expenditure Balance Adjustment'], dtype=object)"
      ]
     },
     "execution_count": 255,
     "metadata": {},
     "output_type": "execute_result"
    }
   ],
   "source": [
    "data[null_mask]['Sub Type'].unique()"
   ]
  },
  {
   "cell_type": "code",
   "execution_count": 248,
   "metadata": {},
   "outputs": [
    {
     "data": {
      "text/plain": [
       "['Cash Balance Adjustment',\n",
       " 'Items Sold at Fair Market Value',\n",
       " 'Interest/Investment Income',\n",
       " 'Personal Expenditure Balance Adjustment']"
      ]
     },
     "execution_count": 248,
     "metadata": {},
     "output_type": "execute_result"
    }
   ],
   "source": [
    "null_subs =set(data[null_mask]['Sub Type'])\n",
    "non_null_subs = set(data[~null_mask]['Sub Type'])\n",
    "list(null_subs & non_null_subs)"
   ]
  },
  {
   "cell_type": "markdown",
   "metadata": {},
   "source": [
    "Notes:\n",
    "- Verify that Null Contributor/Payee is only associated with 4 types of Sub Type\n"
   ]
  }
 ],
 "metadata": {
  "kernelspec": {
   "display_name": "Python 3",
   "language": "python",
   "name": "python3"
  },
  "language_info": {
   "codemirror_mode": {
    "name": "ipython",
    "version": 3
   },
   "file_extension": ".py",
   "mimetype": "text/x-python",
   "name": "python",
   "nbconvert_exporter": "python",
   "pygments_lexer": "ipython3",
   "version": "3.6.0"
  }
 },
 "nbformat": 4,
 "nbformat_minor": 2
}
